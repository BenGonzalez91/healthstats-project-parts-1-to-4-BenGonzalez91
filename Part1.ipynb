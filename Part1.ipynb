{
 "cells": [
  {
   "cell_type": "markdown",
   "metadata": {},
   "source": [
    "# Health Stats Part 1: Lists and Control Flow"
   ]
  },
  {
   "cell_type": "markdown",
   "metadata": {},
   "source": [
    "<!--- Write an explanation of the Waist To Hips Ratio statistic used by health professionals. Please include an explanation of what it is used for, exactly how it is calculated, and how to interpret the results. Note: Formmatting matters. Make this as professional as you can using Markdown.  --->\n",
    "The **waist to hips ratio** is the ratio found by dividing the circumference of the waist by the circumference of the hips. It is a common way of measuring health and ones risk of developing certain diseases. Despite its simplicity, it's been found to be a more efficient predictor of mortality in people over the age of 75 and a better predictor of cardiovascular disease than the BMI. \n",
    "\n",
    "In addition to health, the waist to hips ratio can also be a predictor of fertility. Men with a WHR of .9 and women with a WHR of .7 have been shown to be particularly fertile and be less prone to cancers of the reproductive organs.\n",
    "\n",
    "A correlation has even been discovered between a woman's waist to hips ratio and her child's cognitive performance.\n",
    "\n",
    "The waist to hip ratio is also often discussed as an indicator of a woman's attractiveness but it's not an objective measure and the \"ideal\" ratio varies by culture. The ideal WHR in indo-european cultures is .7 but other cultures range from around .6 to around .8.\n",
    "\n"
   ]
  },
  {
   "cell_type": "markdown",
   "metadata": {},
   "source": [
    "## Source Data "
   ]
  },
  {
   "cell_type": "markdown",
   "metadata": {},
   "source": [
    "<!--- Replace the text below with a Markdown bullet list that defines the columns of the w2h_data.csv file. Be sure to indicate the data type for each column. --->\n",
    "\n",
    "The data file contains the following four columns:\n",
    "\n",
    "* **ID** - This is just a unique identification number for each of the 20 people made up of integers from 1 through 20.\n",
    "\n",
    "* **Waist** - This is the individual person's waist circumference in inches (integers). \n",
    "\n",
    "* **Hip** - This is the person's hip circumference in inches (integers).\n",
    "\n",
    "* **Gender** - This is the person's gender (string)."
   ]
  },
  {
   "cell_type": "markdown",
   "metadata": {},
   "source": [
    "## Data Import"
   ]
  },
  {
   "cell_type": "code",
   "execution_count": 1,
   "metadata": {
    "collapsed": true
   },
   "outputs": [],
   "source": [
    "# DO NOT EDIT ANYTHING IN THIS CELL\n",
    "# Goal: Extract the data from the file\n",
    "\n",
    "# open the w2h_data.csv for reading\n",
    "f = open(\"w2h_data.csv\", \"r\")\n",
    "\n",
    "# load the file into a list of strings, one string per line\n",
    "raw_lines = list(f)\n",
    "\n",
    "# close the file\n",
    "f.close()"
   ]
  },
  {
   "cell_type": "code",
   "execution_count": 2,
   "metadata": {
    "collapsed": true
   },
   "outputs": [],
   "source": [
    "# Goal: Scrub and convert the data, loading it into a new list called rows\n",
    "\n",
    "# Strip out newline '\\n' characters and converts to a list\n",
    "raw_rows = [r.rstrip('\\n').split(',') for r in raw_lines] # <--- Whoa. Why does this work? \n",
    "\n",
    "# Create a new list, starting with just the column names\n",
    "rows = list()\n",
    "rows.append(raw_rows[0]);\n",
    "\n",
    "# Convert each row_row, starting with the second\n",
    "for raw_row in raw_rows[1:]:\n",
    "    \n",
    "    # Note: the values in the raw_row list are all strings.\n",
    "    # Create a new list called row that converts each item in raw_row to the right data type  \n",
    "    row = [int(raw_row[0]),int(raw_row[1]),int(raw_row[2]),str(raw_row[3])] # FIX THIS; you'll need to use conversion functions\n",
    "    # Append the new row to the rows list\n",
    "    rows.append(row)\n",
    "\n",
    "# from here on out use the rows list instead of raw_rows or raw_lines"
   ]
  },
  {
   "cell_type": "markdown",
   "metadata": {},
   "source": [
    "## Calculations"
   ]
  },
  {
   "cell_type": "code",
   "execution_count": 3,
   "metadata": {
    "collapsed": true
   },
   "outputs": [
    {
     "name": "stdout",
     "output_type": "stream",
     "text": [
      "[[1, 30, 32, 'M', 0.9375, 'Apple'], [2, 32, 37, 'M', 0.8648648648648649, 'NA'], [3, 30, 36, 'M', 0.8333333333333334, 'NA'], [4, 33, 39, 'M', 0.8461538461538461, 'NA'], [5, 29, 33, 'M', 0.8787878787878788, 'NA'], [6, 32, 38, 'M', 0.8421052631578947, 'NA'], [7, 33, 42, 'M', 0.7857142857142857, 'NA'], [8, 30, 40, 'M', 0.75, 'NA'], [9, 30, 37, 'M', 0.8108108108108109, 'NA'], [10, 32, 39, 'M', 0.8205128205128205, 'NA'], [11, 24, 35, 'F', 0.6857142857142857, 'Pear'], [12, 25, 37, 'F', 0.6756756756756757, 'Pear'], [13, 24, 37, 'F', 0.6486486486486487, 'Pear'], [14, 22, 34, 'F', 0.6470588235294118, 'Pear'], [15, 26, 38, 'F', 0.6842105263157895, 'Pear'], [16, 26, 37, 'F', 0.7027027027027027, 'Pear'], [17, 25, 38, 'F', 0.6578947368421053, 'Pear'], [18, 26, 37, 'F', 0.7027027027027027, 'Pear'], [19, 28, 40, 'F', 0.7, 'Pear'], [20, 23, 35, 'F', 0.6571428571428571, 'Pear']]\n"
     ]
    }
   ],
   "source": [
    "# Goal: For each row of data calculate and store the w2h_ratio and shape.\n",
    "\n",
    "# Add column for the two new variables\n",
    "rows[0].extend([\"W2H Ratio\",\"Shape\"])\n",
    "\n",
    "# For each row in the rows list, calculate the waist to hips ratio and shape\n",
    "    # Calculate the w2h_ratio \n",
    "w2h_ratio = list()\n",
    "for row in rows[1:]:\n",
    "    w2h_ratio.append(float(row[1]/row[2])) # FIX THIS; you will need to take care about data types\n",
    "\n",
    "\n",
    "    # Based on the ratio and the gender, set the variable shape to either 'apple' or 'pear'\n",
    "shape = list()\n",
    "for row in rows[1:]:\n",
    "    if row[3]=='F' and row[1]/row[2]<=.8:\n",
    "        shape.append('Pear')\n",
    "    elif row[3]=='M' and row[1]/row[2]>.9:\n",
    "        shape.append('Apple')\n",
    "    else: \n",
    "        shape.append('NA')\n",
    "        \n",
    "\n",
    "# Add the new data to the end of the row\n",
    "    #row += [w2h_ratio, shape] # note: += is shorthand operator for the extend method used above\n",
    "rows_new = list()\n",
    "x=int(0)\n",
    "for row in rows[1:]:\n",
    "    rows_new.append(list([row[0],row[1],row[2],row[3],w2h_ratio[x],shape[x]]))\n",
    "    x+=1\n",
    "\n",
    "print(rows_new) \n",
    "\n",
    "    "
   ]
  },
  {
   "cell_type": "markdown",
   "metadata": {},
   "source": [
    "## Output"
   ]
  },
  {
   "cell_type": "code",
   "execution_count": 4,
   "metadata": {},
   "outputs": [
    {
     "data": {
      "text/html": [
       "<table><tr><th>PersonID</th><th>Waist</th><th>Hip</th><th>Gender</th><th>W2H Ratio</th><th>Shape</th></tr><tr><td>1</td><td>30</td><td>32</td><td>M</td><td>0.9375</td><td>Apple</td></tr><tr><td>2</td><td>32</td><td>37</td><td>M</td><td>0.8648648648648649</td><td>NA</td></tr><tr><td>3</td><td>30</td><td>36</td><td>M</td><td>0.8333333333333334</td><td>NA</td></tr><tr><td>4</td><td>33</td><td>39</td><td>M</td><td>0.8461538461538461</td><td>NA</td></tr><tr><td>5</td><td>29</td><td>33</td><td>M</td><td>0.8787878787878788</td><td>NA</td></tr><tr><td>6</td><td>32</td><td>38</td><td>M</td><td>0.8421052631578947</td><td>NA</td></tr><tr><td>7</td><td>33</td><td>42</td><td>M</td><td>0.7857142857142857</td><td>NA</td></tr><tr><td>8</td><td>30</td><td>40</td><td>M</td><td>0.75</td><td>NA</td></tr><tr><td>9</td><td>30</td><td>37</td><td>M</td><td>0.8108108108108109</td><td>NA</td></tr><tr><td>10</td><td>32</td><td>39</td><td>M</td><td>0.8205128205128205</td><td>NA</td></tr><tr><td>11</td><td>24</td><td>35</td><td>F</td><td>0.6857142857142857</td><td>Pear</td></tr><tr><td>12</td><td>25</td><td>37</td><td>F</td><td>0.6756756756756757</td><td>Pear</td></tr><tr><td>13</td><td>24</td><td>37</td><td>F</td><td>0.6486486486486487</td><td>Pear</td></tr><tr><td>14</td><td>22</td><td>34</td><td>F</td><td>0.6470588235294118</td><td>Pear</td></tr><tr><td>15</td><td>26</td><td>38</td><td>F</td><td>0.6842105263157895</td><td>Pear</td></tr><tr><td>16</td><td>26</td><td>37</td><td>F</td><td>0.7027027027027027</td><td>Pear</td></tr><tr><td>17</td><td>25</td><td>38</td><td>F</td><td>0.6578947368421053</td><td>Pear</td></tr><tr><td>18</td><td>26</td><td>37</td><td>F</td><td>0.7027027027027027</td><td>Pear</td></tr><tr><td>19</td><td>28</td><td>40</td><td>F</td><td>0.7</td><td>Pear</td></tr><tr><td>20</td><td>23</td><td>35</td><td>F</td><td>0.6571428571428571</td><td>Pear</td></tr></table>"
      ],
      "text/plain": [
       "<IPython.core.display.HTML object>"
      ]
     },
     "metadata": {},
     "output_type": "display_data"
    }
   ],
   "source": [
    "# Goal: pretty print the rows as an HTML table\n",
    "\n",
    "# Note: this works, but we can do this much better with pandas\n",
    "html_table = '<table><tr><th>'\n",
    "html_table += \"</th><th>\".join(rows[0])\n",
    "html_table += '</th></tr>'\n",
    "for row in rows_new:\n",
    "    html_table += \"<tr><td>\"\n",
    "    html_table += \"</td><td>\".join(str(col) for col in row)\n",
    "    html_table += \"</td></tr>\"\n",
    "html_table += \"</table>\"\n",
    "\n",
    "from IPython.display import HTML, display\n",
    "display(HTML(html_table))"
   ]
  },
  {
   "cell_type": "code",
   "execution_count": null,
   "metadata": {},
   "outputs": [],
   "source": []
  },
  {
   "cell_type": "code",
   "execution_count": null,
   "metadata": {},
   "outputs": [],
   "source": []
  }
 ],
 "metadata": {
  "kernelspec": {
   "display_name": "Python 3",
   "language": "python",
   "name": "python3"
  },
  "language_info": {
   "codemirror_mode": {
    "name": "ipython",
    "version": 3
   },
   "file_extension": ".py",
   "mimetype": "text/x-python",
   "name": "python",
   "nbconvert_exporter": "python",
   "pygments_lexer": "ipython3",
   "version": "3.6.5"
  }
 },
 "nbformat": 4,
 "nbformat_minor": 2
}
